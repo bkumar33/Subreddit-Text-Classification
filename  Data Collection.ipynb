{
 "cells": [
  {
   "cell_type": "markdown",
   "metadata": {},
   "source": [
    "# Project 3: Web APIs & Classification\n",
    "\n",
    "#### By Bhupesh Kumar"
   ]
  },
  {
   "cell_type": "markdown",
   "metadata": {},
   "source": [
    "\n",
    "#### Problem Statement :\n",
    "In this project, I am going to exaplin how to take data from online sources using APIs and draw insights using Natural Language Processing (NLP).\n",
    "\n",
    "Goal is to help engineers to understand the NLP and things can impact the prediction value. Baseline is to give them introduction to NLP procedure so they can look at cell phone market data using API's and make prediction.  \n",
    "\n",
    "NLP helps us extract information from text and use it in out computations and algorithms. So in this project, I am going to extract the posts titles from reddit.com and make insights from it and prdict where the post came from. \n",
    "\n",
    "\n",
    "#### Approach \n",
    "\n",
    "    * Collect Data from subreddit(Iphone and Google Pixel) using the reddit API\n",
    "    * Clean the data \n",
    "    * Model the data "
   ]
  },
  {
   "cell_type": "markdown",
   "metadata": {},
   "source": [
    "### Step 1- Data Collection "
   ]
  },
  {
   "cell_type": "markdown",
   "metadata": {},
   "source": [
    "##### Importing Libraries "
   ]
  },
  {
   "cell_type": "code",
   "execution_count": 1,
   "metadata": {},
   "outputs": [],
   "source": [
    "import pandas as pd\n",
    "import numpy as np \n",
    "import requests\n",
    "import time "
   ]
  },
  {
   "cell_type": "code",
   "execution_count": 2,
   "metadata": {},
   "outputs": [],
   "source": [
    "# URL for first subreddit (Iphone)\n",
    "\n",
    "url_1 = 'https://www.reddit.com/r/iphone.json'\n",
    "\n",
    "# URL for second subreddit (Google Pixel)\n",
    "\n",
    "url_2 = 'https://www.reddit.com/r/GooglePixel.json'\n",
    "\n",
    "# Custom User agent \n",
    "headers = {'User-agent': 'Bhupesh- Project 3'}\n",
    "\n",
    "res_1 = requests.get(url_1, headers = headers)\n",
    "\n",
    "res_2 = requests.get(url_2, headers = headers)"
   ]
  },
  {
   "cell_type": "code",
   "execution_count": 3,
   "metadata": {},
   "outputs": [
    {
     "data": {
      "text/plain": [
       "200"
      ]
     },
     "execution_count": 3,
     "metadata": {},
     "output_type": "execute_result"
    }
   ],
   "source": [
    "res_1.status_code"
   ]
  },
  {
   "cell_type": "code",
   "execution_count": 4,
   "metadata": {},
   "outputs": [
    {
     "data": {
      "text/plain": [
       "200"
      ]
     },
     "execution_count": 4,
     "metadata": {},
     "output_type": "execute_result"
    }
   ],
   "source": [
    "res_2.status_code"
   ]
  },
  {
   "cell_type": "markdown",
   "metadata": {},
   "source": [
    "    Status code for both requests is 200 which is good."
   ]
  },
  {
   "cell_type": "markdown",
   "metadata": {},
   "source": [
    "### Collecting Posts from Both Subreddits \n",
    "\n",
    "####  SubReddit 1 - Iphone"
   ]
  },
  {
   "cell_type": "code",
   "execution_count": 5,
   "metadata": {},
   "outputs": [],
   "source": [
    "iphone_json = res_1.json()"
   ]
  },
  {
   "cell_type": "code",
   "execution_count": 6,
   "metadata": {},
   "outputs": [
    {
     "data": {
      "text/plain": [
       "dict_keys(['kind', 'data'])"
      ]
     },
     "execution_count": 6,
     "metadata": {},
     "output_type": "execute_result"
    }
   ],
   "source": [
    "iphone_json.keys()"
   ]
  },
  {
   "cell_type": "code",
   "execution_count": 7,
   "metadata": {
    "scrolled": true
   },
   "outputs": [
    {
     "data": {
      "text/plain": [
       "dict_keys(['modhash', 'dist', 'children', 'after', 'before'])"
      ]
     },
     "execution_count": 7,
     "metadata": {},
     "output_type": "execute_result"
    }
   ],
   "source": [
    "iphone_json['data'].keys()"
   ]
  },
  {
   "cell_type": "code",
   "execution_count": 8,
   "metadata": {
    "scrolled": true
   },
   "outputs": [
    {
     "data": {
      "text/plain": [
       "{'kind': 't3',\n",
       " 'data': {'approved_at_utc': None,\n",
       "  'subreddit': 'iphone',\n",
       "  'selftext': '**Important Announcement**\\n\\nFollowing discussions amongst the mod team, all posts, videos, and image submissions will be filtered by AutoMod, from the point when this post goes live. This is due to the fact that the majority of the posts are of a tech support nature which is more appropriate in the Weekly Tech Support Thread. There are also many instances of spam, and other low-effort posts such as random off-topic posts or single sentence text posts, that are not conducive to a good discussion. As such, the rules of the subreddit has been clarified and are available on the sidebar or on this link here to [the wiki of the rules](https://www.reddit.com/r/iphone/wiki/rules).\\n\\nAs this sub grows in the number of subscribers, we are taking proactive steps to make this place more organized and neat for you, and we apologize for any inconvenience. You will receive a message when your submission have been filtered, and will just need to wait for it to be approved or removed by the moderators, depending on the nature of the post. If your post have been removed, you will receive a comment that states the reason for the removal of your post, and you can either message us for clarification after that, or post on the relevant stickied thread.\\n\\nPlease refer below for the mod application post.\\n\\n***\\nHello, everyone!\\n\\nWe are looking to add moderators here on /r/iphone! We’ve been growing tremendously these past few weeks, and are looking to add at least three new moderators, four if possible. If you\\'re interested, please keep reading!\\n\\nSo, what does it mean to be a moderator on /r/iphone? Well, several things. It is important that anyone who applies be ACTIVE and MATURE in their duties as a mod. All mods should frequently check /new and remove any posts that break the rules (or anything else that might need to be removed). All mods should make sure discussions in popular threads adhere to the rules as well. The more time you have, the better. You could be perfect for the role, but someone who only has an hour to spare won\\'t fit the part. You will be expected to be active, and if you are not active or is inactive after a few weeks of being active without a solid reason, you will be removed as a mod. \\n\\n## Requirements\\n\\n* Your account must be at least *6 months old* and you must have at least *500 cumulative karma*.\\n* Must be active on /r/iPhone and have a history of contributing positively to the subreddit (i.e. not breaking rules and not coming here to troll).\\n* Look forward to doing the \"janitorial\" work that is the bulk of what moderators do: removing and approving posts, clearing the modqueue, responding to modmail, helping people, maintaining order. \\n* Willing to perform the majority of moderation work from a computer &amp; install Moderator Toolbox (mod tools for mobile are terrible).\\n* Have a Discord account, and if selected as a mod, be in the r/iphone Discord channel for staff chat.\\n* Be extremely active in doing your mod duties, and be mature in interactions with users and other mods.\\n* Previous moderator experience is helpful, but not necessary.\\n\\nPlease be honest in your answers on the mod application form, don\\'t write an application that embellishes or fabricates -- we want to know the real you. Each applicant will receive the same level of consideration, but we might be more inclined to bring on people who are more active, regardless of timezone.\\n\\nIf you are selected, you will be on a trial basis, and if you do not perform up to standard, you would be removed as a mod. This would not generally be done unless you are extremely inactive, or do something extraordinarily bad against the sub and site rules, so be rest assured that it is not going to happen that easily.\\n\\n**Link to the form: [The /r/iphone Moderator Application Form](https://docs.google.com/forms/d/1_8Vi_jCp4ozqaS1oP6Q3RMaSNwOM6wHRFsxjD0BislA/viewform).**\\n\\nWe can only take a handful of people, so if you aren\\'t chosen, please don\\'t take it personally. The application will be closed in a few weeks, or whenever we feel that the number of applicants is more than enough, whichever comes first. Successful applicants will be contacted shortly after that.\\n\\nGood luck to everyone! If you have any questions, feel free to leave them below and we will respond to your queries.',\n",
       "  'author_fullname': 't2_p04qw',\n",
       "  'saved': False,\n",
       "  'mod_reason_title': None,\n",
       "  'gilded': 0,\n",
       "  'clicked': False,\n",
       "  'title': 'Important Announcement + Mod Applications',\n",
       "  'link_flair_richtext': [],\n",
       "  'subreddit_name_prefixed': 'r/iphone',\n",
       "  'hidden': False,\n",
       "  'pwls': 6,\n",
       "  'link_flair_css_class': None,\n",
       "  'downs': 0,\n",
       "  'thumbnail_height': None,\n",
       "  'hide_score': False,\n",
       "  'name': 't3_ca309f',\n",
       "  'quarantine': False,\n",
       "  'link_flair_text_color': 'dark',\n",
       "  'author_flair_background_color': None,\n",
       "  'subreddit_type': 'public',\n",
       "  'ups': 25,\n",
       "  'total_awards_received': 0,\n",
       "  'media_embed': {},\n",
       "  'thumbnail_width': None,\n",
       "  'author_flair_template_id': None,\n",
       "  'is_original_content': False,\n",
       "  'user_reports': [],\n",
       "  'secure_media': None,\n",
       "  'is_reddit_media_domain': False,\n",
       "  'is_meta': False,\n",
       "  'category': None,\n",
       "  'secure_media_embed': {},\n",
       "  'link_flair_text': None,\n",
       "  'can_mod_post': False,\n",
       "  'score': 25,\n",
       "  'approved_by': None,\n",
       "  'thumbnail': 'self',\n",
       "  'edited': 1562576685.0,\n",
       "  'author_flair_css_class': None,\n",
       "  'author_flair_richtext': [],\n",
       "  'gildings': {},\n",
       "  'content_categories': None,\n",
       "  'is_self': True,\n",
       "  'mod_note': None,\n",
       "  'created': 1562502904.0,\n",
       "  'link_flair_type': 'text',\n",
       "  'wls': 6,\n",
       "  'banned_by': None,\n",
       "  'author_flair_type': 'text',\n",
       "  'domain': 'self.iphone',\n",
       "  'allow_live_comments': False,\n",
       "  'selftext_html': '&lt;!-- SC_OFF --&gt;&lt;div class=\"md\"&gt;&lt;p&gt;&lt;strong&gt;Important Announcement&lt;/strong&gt;&lt;/p&gt;\\n\\n&lt;p&gt;Following discussions amongst the mod team, all posts, videos, and image submissions will be filtered by AutoMod, from the point when this post goes live. This is due to the fact that the majority of the posts are of a tech support nature which is more appropriate in the Weekly Tech Support Thread. There are also many instances of spam, and other low-effort posts such as random off-topic posts or single sentence text posts, that are not conducive to a good discussion. As such, the rules of the subreddit has been clarified and are available on the sidebar or on this link here to &lt;a href=\"https://www.reddit.com/r/iphone/wiki/rules\"&gt;the wiki of the rules&lt;/a&gt;.&lt;/p&gt;\\n\\n&lt;p&gt;As this sub grows in the number of subscribers, we are taking proactive steps to make this place more organized and neat for you, and we apologize for any inconvenience. You will receive a message when your submission have been filtered, and will just need to wait for it to be approved or removed by the moderators, depending on the nature of the post. If your post have been removed, you will receive a comment that states the reason for the removal of your post, and you can either message us for clarification after that, or post on the relevant stickied thread.&lt;/p&gt;\\n\\n&lt;p&gt;Please refer below for the mod application post.&lt;/p&gt;\\n\\n&lt;hr/&gt;\\n\\n&lt;p&gt;Hello, everyone!&lt;/p&gt;\\n\\n&lt;p&gt;We are looking to add moderators here on &lt;a href=\"/r/iphone\"&gt;/r/iphone&lt;/a&gt;! We’ve been growing tremendously these past few weeks, and are looking to add at least three new moderators, four if possible. If you&amp;#39;re interested, please keep reading!&lt;/p&gt;\\n\\n&lt;p&gt;So, what does it mean to be a moderator on &lt;a href=\"/r/iphone\"&gt;/r/iphone&lt;/a&gt;? Well, several things. It is important that anyone who applies be ACTIVE and MATURE in their duties as a mod. All mods should frequently check /new and remove any posts that break the rules (or anything else that might need to be removed). All mods should make sure discussions in popular threads adhere to the rules as well. The more time you have, the better. You could be perfect for the role, but someone who only has an hour to spare won&amp;#39;t fit the part. You will be expected to be active, and if you are not active or is inactive after a few weeks of being active without a solid reason, you will be removed as a mod. &lt;/p&gt;\\n\\n&lt;h2&gt;Requirements&lt;/h2&gt;\\n\\n&lt;ul&gt;\\n&lt;li&gt;Your account must be at least &lt;em&gt;6 months old&lt;/em&gt; and you must have at least &lt;em&gt;500 cumulative karma&lt;/em&gt;.&lt;/li&gt;\\n&lt;li&gt;Must be active on &lt;a href=\"/r/iPhone\"&gt;/r/iPhone&lt;/a&gt; and have a history of contributing positively to the subreddit (i.e. not breaking rules and not coming here to troll).&lt;/li&gt;\\n&lt;li&gt;Look forward to doing the &amp;quot;janitorial&amp;quot; work that is the bulk of what moderators do: removing and approving posts, clearing the modqueue, responding to modmail, helping people, maintaining order. &lt;/li&gt;\\n&lt;li&gt;Willing to perform the majority of moderation work from a computer &amp;amp; install Moderator Toolbox (mod tools for mobile are terrible).&lt;/li&gt;\\n&lt;li&gt;Have a Discord account, and if selected as a mod, be in the &lt;a href=\"/r/iphone\"&gt;r/iphone&lt;/a&gt; Discord channel for staff chat.&lt;/li&gt;\\n&lt;li&gt;Be extremely active in doing your mod duties, and be mature in interactions with users and other mods.&lt;/li&gt;\\n&lt;li&gt;Previous moderator experience is helpful, but not necessary.&lt;/li&gt;\\n&lt;/ul&gt;\\n\\n&lt;p&gt;Please be honest in your answers on the mod application form, don&amp;#39;t write an application that embellishes or fabricates -- we want to know the real you. Each applicant will receive the same level of consideration, but we might be more inclined to bring on people who are more active, regardless of timezone.&lt;/p&gt;\\n\\n&lt;p&gt;If you are selected, you will be on a trial basis, and if you do not perform up to standard, you would be removed as a mod. This would not generally be done unless you are extremely inactive, or do something extraordinarily bad against the sub and site rules, so be rest assured that it is not going to happen that easily.&lt;/p&gt;\\n\\n&lt;p&gt;&lt;strong&gt;Link to the form: &lt;a href=\"https://docs.google.com/forms/d/1_8Vi_jCp4ozqaS1oP6Q3RMaSNwOM6wHRFsxjD0BislA/viewform\"&gt;The /r/iphone Moderator Application Form&lt;/a&gt;.&lt;/strong&gt;&lt;/p&gt;\\n\\n&lt;p&gt;We can only take a handful of people, so if you aren&amp;#39;t chosen, please don&amp;#39;t take it personally. The application will be closed in a few weeks, or whenever we feel that the number of applicants is more than enough, whichever comes first. Successful applicants will be contacted shortly after that.&lt;/p&gt;\\n\\n&lt;p&gt;Good luck to everyone! If you have any questions, feel free to leave them below and we will respond to your queries.&lt;/p&gt;\\n&lt;/div&gt;&lt;!-- SC_ON --&gt;',\n",
       "  'likes': None,\n",
       "  'suggested_sort': None,\n",
       "  'banned_at_utc': None,\n",
       "  'view_count': None,\n",
       "  'archived': False,\n",
       "  'no_follow': False,\n",
       "  'is_crosspostable': False,\n",
       "  'pinned': False,\n",
       "  'over_18': False,\n",
       "  'all_awardings': [],\n",
       "  'media_only': False,\n",
       "  'can_gild': False,\n",
       "  'spoiler': False,\n",
       "  'locked': False,\n",
       "  'author_flair_text': None,\n",
       "  'visited': False,\n",
       "  'num_reports': None,\n",
       "  'distinguished': 'moderator',\n",
       "  'subreddit_id': 't5_2qh2b',\n",
       "  'mod_reason_by': None,\n",
       "  'removal_reason': None,\n",
       "  'link_flair_background_color': '',\n",
       "  'id': 'ca309f',\n",
       "  'is_robot_indexable': True,\n",
       "  'report_reasons': None,\n",
       "  'author': 'LeafSamurai',\n",
       "  'num_crossposts': 0,\n",
       "  'num_comments': 19,\n",
       "  'send_replies': True,\n",
       "  'whitelist_status': 'all_ads',\n",
       "  'contest_mode': False,\n",
       "  'mod_reports': [],\n",
       "  'author_patreon_flair': False,\n",
       "  'author_flair_text_color': None,\n",
       "  'permalink': '/r/iphone/comments/ca309f/important_announcement_mod_applications/',\n",
       "  'parent_whitelist_status': 'all_ads',\n",
       "  'stickied': True,\n",
       "  'url': 'https://www.reddit.com/r/iphone/comments/ca309f/important_announcement_mod_applications/',\n",
       "  'subreddit_subscribers': 1779607,\n",
       "  'created_utc': 1562474104.0,\n",
       "  'discussion_type': None,\n",
       "  'media': None,\n",
       "  'is_video': False}}"
      ]
     },
     "execution_count": 8,
     "metadata": {},
     "output_type": "execute_result"
    }
   ],
   "source": [
    "iphone_json['data']['children'][1]"
   ]
  },
  {
   "cell_type": "code",
   "execution_count": 9,
   "metadata": {
    "scrolled": true
   },
   "outputs": [
    {
     "data": {
      "text/plain": [
       "27"
      ]
     },
     "execution_count": 9,
     "metadata": {},
     "output_type": "execute_result"
    }
   ],
   "source": [
    "len(iphone_json['data']['children'])"
   ]
  },
  {
   "cell_type": "markdown",
   "metadata": {},
   "source": [
    "Having prior knowledge about reddit API, I know all the information i need for this project is in ['data'] key of the json. The posts I am looking for are in ['children'] key of ['data']. \n",
    "\n",
    "Each pull give me about 27 posts but i need close to 1000 posts. I will create for loop to hit the API multiple times till have enough. I will do the range of 50 which will give me 1250-1300 posts. The reason I am pulling more post is because there are some redudent posts as well. For this project, I need unquie posts close to 1000. \n",
    "\n",
    "Also, I will use ['after'] key in data to set params. Which will allow me to me pull next 25 posts and so on."
   ]
  },
  {
   "cell_type": "code",
   "execution_count": 10,
   "metadata": {},
   "outputs": [],
   "source": [
    "iphone_posts = []\n",
    "after = None\n",
    "\n",
    "for i in range(50):\n",
    "    if after == None:\n",
    "        params = {}\n",
    "    else:\n",
    "        params = {'after':after}\n",
    "        \n",
    "    url_1 = 'https://www.reddit.com/r/iphone.json'\n",
    "    res_1 = requests.get(url_1, params=params, headers = headers)\n",
    "    \n",
    "    if res_1.status_code == 200:\n",
    "        iphone_json = res_1.json()\n",
    "        iphone_posts.extend(iphone_json['data']['children'])\n",
    "        after = iphone_json['data']['after']\n",
    "    else:\n",
    "        print(res.status_code)\n",
    "        break\n",
    "        \n",
    "    time.sleep(1)"
   ]
  },
  {
   "cell_type": "code",
   "execution_count": 11,
   "metadata": {},
   "outputs": [
    {
     "data": {
      "text/plain": [
       "1230"
      ]
     },
     "execution_count": 11,
     "metadata": {},
     "output_type": "execute_result"
    }
   ],
   "source": [
    "len(iphone_posts)"
   ]
  },
  {
   "cell_type": "code",
   "execution_count": 12,
   "metadata": {},
   "outputs": [
    {
     "data": {
      "text/plain": [
       "903"
      ]
     },
     "execution_count": 12,
     "metadata": {},
     "output_type": "execute_result"
    }
   ],
   "source": [
    "len(set([p['data']['name']for p in iphone_posts]))# unique posts "
   ]
  },
  {
   "cell_type": "code",
   "execution_count": 13,
   "metadata": {},
   "outputs": [
    {
     "data": {
      "text/plain": [
       "'Weekly Tech Support Thread - [July 09]'"
      ]
     },
     "execution_count": 13,
     "metadata": {},
     "output_type": "execute_result"
    }
   ],
   "source": [
    "iphone_posts[0]['data']['title']"
   ]
  },
  {
   "cell_type": "markdown",
   "metadata": {},
   "source": [
    "#### SubReddit 2 - Google Pixel"
   ]
  },
  {
   "cell_type": "code",
   "execution_count": 14,
   "metadata": {},
   "outputs": [],
   "source": [
    "google_pixel_posts = []\n",
    "after = None\n",
    "\n",
    "for i in range(50):\n",
    "    if after == None:\n",
    "        params = {}\n",
    "    else:\n",
    "        params = {'after':after}\n",
    "        \n",
    "    url_2 = 'https://www.reddit.com/r/GooglePixel.json'\n",
    "    res_2 = requests.get(url_2, params=params, headers = headers)\n",
    "    \n",
    "    if res_2.status_code == 200:\n",
    "        google_pixel_json = res_2.json()\n",
    "        google_pixel_posts.extend(google_pixel_json['data']['children'])\n",
    "        after = google_pixel_json['data']['after']\n",
    "    else:\n",
    "        print(res.status_code)\n",
    "        break\n",
    "        \n",
    "    time.sleep(1)"
   ]
  },
  {
   "cell_type": "code",
   "execution_count": 15,
   "metadata": {},
   "outputs": [
    {
     "data": {
      "text/plain": [
       "1235"
      ]
     },
     "execution_count": 15,
     "metadata": {},
     "output_type": "execute_result"
    }
   ],
   "source": [
    "len(google_pixel_posts)"
   ]
  },
  {
   "cell_type": "code",
   "execution_count": 16,
   "metadata": {},
   "outputs": [
    {
     "data": {
      "text/plain": [
       "908"
      ]
     },
     "execution_count": 16,
     "metadata": {},
     "output_type": "execute_result"
    }
   ],
   "source": [
    "len(set([p['data']['name']for p in google_pixel_posts]))# unique posts "
   ]
  },
  {
   "cell_type": "code",
   "execution_count": 17,
   "metadata": {},
   "outputs": [
    {
     "data": {
      "text/plain": [
       "'Weekly #MadeByGoogle Photos Megathread - July 04 2019'"
      ]
     },
     "execution_count": 17,
     "metadata": {},
     "output_type": "execute_result"
    }
   ],
   "source": [
    "google_pixel_posts[0]['data']['title']"
   ]
  },
  {
   "cell_type": "markdown",
   "metadata": {},
   "source": [
    "    Iphone - 1230 posts, 903 unique\n",
    "    Google pixel - 1235 posts, 908 unique\n",
    "\n",
    "Now, I can collect the information i need for this project from those posts. "
   ]
  },
  {
   "cell_type": "markdown",
   "metadata": {},
   "source": [
    "#### IPHONE Post Title \n",
    "We are only interested in the text data data, so im going to extract the title of the post "
   ]
  },
  {
   "cell_type": "code",
   "execution_count": 18,
   "metadata": {},
   "outputs": [],
   "source": [
    "iphone_title = [iphone_posts[i]['data']['title'] for i in range(0,len(iphone_posts))]"
   ]
  },
  {
   "cell_type": "markdown",
   "metadata": {},
   "source": [
    "Once i extracted the title, it is in list form. In order to run models on it, i will change it to pandas dataframe "
   ]
  },
  {
   "cell_type": "code",
   "execution_count": 19,
   "metadata": {},
   "outputs": [
    {
     "data": {
      "text/html": [
       "<div>\n",
       "<style scoped>\n",
       "    .dataframe tbody tr th:only-of-type {\n",
       "        vertical-align: middle;\n",
       "    }\n",
       "\n",
       "    .dataframe tbody tr th {\n",
       "        vertical-align: top;\n",
       "    }\n",
       "\n",
       "    .dataframe thead th {\n",
       "        text-align: right;\n",
       "    }\n",
       "</style>\n",
       "<table border=\"1\" class=\"dataframe\">\n",
       "  <thead>\n",
       "    <tr style=\"text-align: right;\">\n",
       "      <th></th>\n",
       "      <th>post_title</th>\n",
       "      <th>rank</th>\n",
       "    </tr>\n",
       "  </thead>\n",
       "  <tbody>\n",
       "    <tr>\n",
       "      <th>0</th>\n",
       "      <td>Weekly Tech Support Thread - [July 09]</td>\n",
       "      <td>iphone</td>\n",
       "    </tr>\n",
       "    <tr>\n",
       "      <th>1</th>\n",
       "      <td>Important Announcement + Mod Applications</td>\n",
       "      <td>iphone</td>\n",
       "    </tr>\n",
       "    <tr>\n",
       "      <th>2</th>\n",
       "      <td>Well Why Not 😀</td>\n",
       "      <td>iphone</td>\n",
       "    </tr>\n",
       "    <tr>\n",
       "      <th>3</th>\n",
       "      <td>Paid apps actually worth it in 2019?</td>\n",
       "      <td>iphone</td>\n",
       "    </tr>\n",
       "    <tr>\n",
       "      <th>4</th>\n",
       "      <td>My iPhone collection as of yesterday! Just mis...</td>\n",
       "      <td>iphone</td>\n",
       "    </tr>\n",
       "  </tbody>\n",
       "</table>\n",
       "</div>"
      ],
      "text/plain": [
       "                                          post_title    rank\n",
       "0             Weekly Tech Support Thread - [July 09]  iphone\n",
       "1          Important Announcement + Mod Applications  iphone\n",
       "2                                     Well Why Not 😀  iphone\n",
       "3               Paid apps actually worth it in 2019?  iphone\n",
       "4  My iPhone collection as of yesterday! Just mis...  iphone"
      ]
     },
     "execution_count": 19,
     "metadata": {},
     "output_type": "execute_result"
    }
   ],
   "source": [
    "iphone_df = pd.DataFrame(iphone_title, columns=['post_title'])\n",
    "iphone_df['rank'] = 'iphone'\n",
    "iphone_df.head()"
   ]
  },
  {
   "cell_type": "code",
   "execution_count": 20,
   "metadata": {},
   "outputs": [
    {
     "data": {
      "text/plain": [
       "(1230, 2)"
      ]
     },
     "execution_count": 20,
     "metadata": {},
     "output_type": "execute_result"
    }
   ],
   "source": [
    "iphone_df.shape"
   ]
  },
  {
   "cell_type": "markdown",
   "metadata": {},
   "source": [
    "#### GOOGLE PIXEL post title\n",
    "I will do the same here will google pixel reddit, extract the title only. "
   ]
  },
  {
   "cell_type": "code",
   "execution_count": 21,
   "metadata": {},
   "outputs": [],
   "source": [
    "google_pixel_title = [google_pixel_posts[i]['data']['title'] for i in range(0,len(google_pixel_posts))]"
   ]
  },
  {
   "cell_type": "markdown",
   "metadata": {},
   "source": [
    "Chagine the information into pandas dataframe"
   ]
  },
  {
   "cell_type": "code",
   "execution_count": 22,
   "metadata": {},
   "outputs": [
    {
     "data": {
      "text/html": [
       "<div>\n",
       "<style scoped>\n",
       "    .dataframe tbody tr th:only-of-type {\n",
       "        vertical-align: middle;\n",
       "    }\n",
       "\n",
       "    .dataframe tbody tr th {\n",
       "        vertical-align: top;\n",
       "    }\n",
       "\n",
       "    .dataframe thead th {\n",
       "        text-align: right;\n",
       "    }\n",
       "</style>\n",
       "<table border=\"1\" class=\"dataframe\">\n",
       "  <thead>\n",
       "    <tr style=\"text-align: right;\">\n",
       "      <th></th>\n",
       "      <th>post_title</th>\n",
       "      <th>rank</th>\n",
       "    </tr>\n",
       "  </thead>\n",
       "  <tbody>\n",
       "    <tr>\n",
       "      <th>0</th>\n",
       "      <td>Weekly #MadeByGoogle Photos Megathread - July ...</td>\n",
       "      <td>google_pixel</td>\n",
       "    </tr>\n",
       "    <tr>\n",
       "      <th>1</th>\n",
       "      <td>The July 2019 Superthread: #LeaksByGoogle, Bat...</td>\n",
       "      <td>google_pixel</td>\n",
       "    </tr>\n",
       "    <tr>\n",
       "      <th>2</th>\n",
       "      <td>Pixel 3 and 3 XL will be heavily discounted on...</td>\n",
       "      <td>google_pixel</td>\n",
       "    </tr>\n",
       "    <tr>\n",
       "      <th>3</th>\n",
       "      <td>Android Q Beta 5!</td>\n",
       "      <td>google_pixel</td>\n",
       "    </tr>\n",
       "    <tr>\n",
       "      <th>4</th>\n",
       "      <td>Q beta 5 assistant corner gesture. Let's talk ...</td>\n",
       "      <td>google_pixel</td>\n",
       "    </tr>\n",
       "  </tbody>\n",
       "</table>\n",
       "</div>"
      ],
      "text/plain": [
       "                                          post_title          rank\n",
       "0  Weekly #MadeByGoogle Photos Megathread - July ...  google_pixel\n",
       "1  The July 2019 Superthread: #LeaksByGoogle, Bat...  google_pixel\n",
       "2  Pixel 3 and 3 XL will be heavily discounted on...  google_pixel\n",
       "3                                  Android Q Beta 5!  google_pixel\n",
       "4  Q beta 5 assistant corner gesture. Let's talk ...  google_pixel"
      ]
     },
     "execution_count": 22,
     "metadata": {},
     "output_type": "execute_result"
    }
   ],
   "source": [
    "google_pixel_df = pd.DataFrame(google_pixel_title, columns=['post_title'])\n",
    "google_pixel_df['rank'] = 'google_pixel'\n",
    "google_pixel_df.head()"
   ]
  },
  {
   "cell_type": "code",
   "execution_count": 23,
   "metadata": {},
   "outputs": [
    {
     "data": {
      "text/plain": [
       "(1235, 2)"
      ]
     },
     "execution_count": 23,
     "metadata": {},
     "output_type": "execute_result"
    }
   ],
   "source": [
    "google_pixel_df.shape"
   ]
  },
  {
   "cell_type": "markdown",
   "metadata": {},
   "source": [
    "#### Combining the two Dataframe into one"
   ]
  },
  {
   "cell_type": "code",
   "execution_count": 24,
   "metadata": {},
   "outputs": [],
   "source": [
    "raw_df = pd.concat([iphone_df, google_pixel_df])"
   ]
  },
  {
   "cell_type": "code",
   "execution_count": 26,
   "metadata": {},
   "outputs": [],
   "source": [
    "raw_df = raw_df.reset_index(drop = True)"
   ]
  },
  {
   "cell_type": "code",
   "execution_count": 27,
   "metadata": {},
   "outputs": [
    {
     "data": {
      "text/html": [
       "<div>\n",
       "<style scoped>\n",
       "    .dataframe tbody tr th:only-of-type {\n",
       "        vertical-align: middle;\n",
       "    }\n",
       "\n",
       "    .dataframe tbody tr th {\n",
       "        vertical-align: top;\n",
       "    }\n",
       "\n",
       "    .dataframe thead th {\n",
       "        text-align: right;\n",
       "    }\n",
       "</style>\n",
       "<table border=\"1\" class=\"dataframe\">\n",
       "  <thead>\n",
       "    <tr style=\"text-align: right;\">\n",
       "      <th></th>\n",
       "      <th>post_title</th>\n",
       "      <th>rank</th>\n",
       "    </tr>\n",
       "  </thead>\n",
       "  <tbody>\n",
       "    <tr>\n",
       "      <th>0</th>\n",
       "      <td>Weekly Tech Support Thread - [July 09]</td>\n",
       "      <td>iphone</td>\n",
       "    </tr>\n",
       "    <tr>\n",
       "      <th>1</th>\n",
       "      <td>Important Announcement + Mod Applications</td>\n",
       "      <td>iphone</td>\n",
       "    </tr>\n",
       "    <tr>\n",
       "      <th>2</th>\n",
       "      <td>Well Why Not 😀</td>\n",
       "      <td>iphone</td>\n",
       "    </tr>\n",
       "    <tr>\n",
       "      <th>3</th>\n",
       "      <td>Paid apps actually worth it in 2019?</td>\n",
       "      <td>iphone</td>\n",
       "    </tr>\n",
       "    <tr>\n",
       "      <th>4</th>\n",
       "      <td>My iPhone collection as of yesterday! Just mis...</td>\n",
       "      <td>iphone</td>\n",
       "    </tr>\n",
       "  </tbody>\n",
       "</table>\n",
       "</div>"
      ],
      "text/plain": [
       "                                          post_title    rank\n",
       "0             Weekly Tech Support Thread - [July 09]  iphone\n",
       "1          Important Announcement + Mod Applications  iphone\n",
       "2                                     Well Why Not 😀  iphone\n",
       "3               Paid apps actually worth it in 2019?  iphone\n",
       "4  My iPhone collection as of yesterday! Just mis...  iphone"
      ]
     },
     "execution_count": 27,
     "metadata": {},
     "output_type": "execute_result"
    }
   ],
   "source": [
    "raw_df.head()"
   ]
  },
  {
   "cell_type": "code",
   "execution_count": 28,
   "metadata": {},
   "outputs": [
    {
     "data": {
      "text/html": [
       "<div>\n",
       "<style scoped>\n",
       "    .dataframe tbody tr th:only-of-type {\n",
       "        vertical-align: middle;\n",
       "    }\n",
       "\n",
       "    .dataframe tbody tr th {\n",
       "        vertical-align: top;\n",
       "    }\n",
       "\n",
       "    .dataframe thead th {\n",
       "        text-align: right;\n",
       "    }\n",
       "</style>\n",
       "<table border=\"1\" class=\"dataframe\">\n",
       "  <thead>\n",
       "    <tr style=\"text-align: right;\">\n",
       "      <th></th>\n",
       "      <th>post_title</th>\n",
       "      <th>rank</th>\n",
       "    </tr>\n",
       "  </thead>\n",
       "  <tbody>\n",
       "    <tr>\n",
       "      <th>2460</th>\n",
       "      <td>Gboard without the stupid emoji button!</td>\n",
       "      <td>google_pixel</td>\n",
       "    </tr>\n",
       "    <tr>\n",
       "      <th>2461</th>\n",
       "      <td>Worth changing my OnePlus 5t to a Pixel 2xl</td>\n",
       "      <td>google_pixel</td>\n",
       "    </tr>\n",
       "    <tr>\n",
       "      <th>2462</th>\n",
       "      <td>Google asked me... \"Are you ok?\" Today</td>\n",
       "      <td>google_pixel</td>\n",
       "    </tr>\n",
       "    <tr>\n",
       "      <th>2463</th>\n",
       "      <td>Can somebody take pictures of buttons on 2XL f...</td>\n",
       "      <td>google_pixel</td>\n",
       "    </tr>\n",
       "    <tr>\n",
       "      <th>2464</th>\n",
       "      <td>Best Skins Ever review, buyer beware</td>\n",
       "      <td>google_pixel</td>\n",
       "    </tr>\n",
       "  </tbody>\n",
       "</table>\n",
       "</div>"
      ],
      "text/plain": [
       "                                             post_title          rank\n",
       "2460            Gboard without the stupid emoji button!  google_pixel\n",
       "2461        Worth changing my OnePlus 5t to a Pixel 2xl  google_pixel\n",
       "2462             Google asked me... \"Are you ok?\" Today  google_pixel\n",
       "2463  Can somebody take pictures of buttons on 2XL f...  google_pixel\n",
       "2464               Best Skins Ever review, buyer beware  google_pixel"
      ]
     },
     "execution_count": 28,
     "metadata": {},
     "output_type": "execute_result"
    }
   ],
   "source": [
    "raw_df.tail()"
   ]
  },
  {
   "cell_type": "code",
   "execution_count": 29,
   "metadata": {
    "scrolled": true
   },
   "outputs": [
    {
     "data": {
      "text/plain": [
       "(2465, 2)"
      ]
     },
     "execution_count": 29,
     "metadata": {},
     "output_type": "execute_result"
    }
   ],
   "source": [
    "raw_df.shape"
   ]
  },
  {
   "cell_type": "markdown",
   "metadata": {},
   "source": [
    "#### Making rank column a boolean - Iphone (0) and google pixel (1)\n",
    "\n",
    "I created a rank column above to identify post belongs to which reddit, but im going to change the rank into boolean form. It's easier for classification models having an numeric data. "
   ]
  },
  {
   "cell_type": "code",
   "execution_count": 30,
   "metadata": {},
   "outputs": [
    {
     "data": {
      "text/plain": [
       "google_pixel    1235\n",
       "iphone          1230\n",
       "Name: rank, dtype: int64"
      ]
     },
     "execution_count": 30,
     "metadata": {},
     "output_type": "execute_result"
    }
   ],
   "source": [
    "raw_df['rank'].value_counts()"
   ]
  },
  {
   "cell_type": "code",
   "execution_count": 31,
   "metadata": {},
   "outputs": [],
   "source": [
    "raw_df['rank'] = raw_df['rank'].map({'iphone':0,'google_pixel':1})"
   ]
  },
  {
   "cell_type": "code",
   "execution_count": 32,
   "metadata": {},
   "outputs": [
    {
     "data": {
      "text/html": [
       "<div>\n",
       "<style scoped>\n",
       "    .dataframe tbody tr th:only-of-type {\n",
       "        vertical-align: middle;\n",
       "    }\n",
       "\n",
       "    .dataframe tbody tr th {\n",
       "        vertical-align: top;\n",
       "    }\n",
       "\n",
       "    .dataframe thead th {\n",
       "        text-align: right;\n",
       "    }\n",
       "</style>\n",
       "<table border=\"1\" class=\"dataframe\">\n",
       "  <thead>\n",
       "    <tr style=\"text-align: right;\">\n",
       "      <th></th>\n",
       "      <th>post_title</th>\n",
       "      <th>rank</th>\n",
       "    </tr>\n",
       "  </thead>\n",
       "  <tbody>\n",
       "    <tr>\n",
       "      <th>0</th>\n",
       "      <td>Weekly Tech Support Thread - [July 09]</td>\n",
       "      <td>0</td>\n",
       "    </tr>\n",
       "    <tr>\n",
       "      <th>1</th>\n",
       "      <td>Important Announcement + Mod Applications</td>\n",
       "      <td>0</td>\n",
       "    </tr>\n",
       "    <tr>\n",
       "      <th>2</th>\n",
       "      <td>Well Why Not 😀</td>\n",
       "      <td>0</td>\n",
       "    </tr>\n",
       "    <tr>\n",
       "      <th>3</th>\n",
       "      <td>Paid apps actually worth it in 2019?</td>\n",
       "      <td>0</td>\n",
       "    </tr>\n",
       "    <tr>\n",
       "      <th>4</th>\n",
       "      <td>My iPhone collection as of yesterday! Just mis...</td>\n",
       "      <td>0</td>\n",
       "    </tr>\n",
       "  </tbody>\n",
       "</table>\n",
       "</div>"
      ],
      "text/plain": [
       "                                          post_title  rank\n",
       "0             Weekly Tech Support Thread - [July 09]     0\n",
       "1          Important Announcement + Mod Applications     0\n",
       "2                                     Well Why Not 😀     0\n",
       "3               Paid apps actually worth it in 2019?     0\n",
       "4  My iPhone collection as of yesterday! Just mis...     0"
      ]
     },
     "execution_count": 32,
     "metadata": {},
     "output_type": "execute_result"
    }
   ],
   "source": [
    "raw_df.head()"
   ]
  },
  {
   "cell_type": "code",
   "execution_count": 33,
   "metadata": {},
   "outputs": [
    {
     "data": {
      "text/html": [
       "<div>\n",
       "<style scoped>\n",
       "    .dataframe tbody tr th:only-of-type {\n",
       "        vertical-align: middle;\n",
       "    }\n",
       "\n",
       "    .dataframe tbody tr th {\n",
       "        vertical-align: top;\n",
       "    }\n",
       "\n",
       "    .dataframe thead th {\n",
       "        text-align: right;\n",
       "    }\n",
       "</style>\n",
       "<table border=\"1\" class=\"dataframe\">\n",
       "  <thead>\n",
       "    <tr style=\"text-align: right;\">\n",
       "      <th></th>\n",
       "      <th>post_title</th>\n",
       "      <th>rank</th>\n",
       "    </tr>\n",
       "  </thead>\n",
       "  <tbody>\n",
       "    <tr>\n",
       "      <th>2460</th>\n",
       "      <td>Gboard without the stupid emoji button!</td>\n",
       "      <td>1</td>\n",
       "    </tr>\n",
       "    <tr>\n",
       "      <th>2461</th>\n",
       "      <td>Worth changing my OnePlus 5t to a Pixel 2xl</td>\n",
       "      <td>1</td>\n",
       "    </tr>\n",
       "    <tr>\n",
       "      <th>2462</th>\n",
       "      <td>Google asked me... \"Are you ok?\" Today</td>\n",
       "      <td>1</td>\n",
       "    </tr>\n",
       "    <tr>\n",
       "      <th>2463</th>\n",
       "      <td>Can somebody take pictures of buttons on 2XL f...</td>\n",
       "      <td>1</td>\n",
       "    </tr>\n",
       "    <tr>\n",
       "      <th>2464</th>\n",
       "      <td>Best Skins Ever review, buyer beware</td>\n",
       "      <td>1</td>\n",
       "    </tr>\n",
       "  </tbody>\n",
       "</table>\n",
       "</div>"
      ],
      "text/plain": [
       "                                             post_title  rank\n",
       "2460            Gboard without the stupid emoji button!     1\n",
       "2461        Worth changing my OnePlus 5t to a Pixel 2xl     1\n",
       "2462             Google asked me... \"Are you ok?\" Today     1\n",
       "2463  Can somebody take pictures of buttons on 2XL f...     1\n",
       "2464               Best Skins Ever review, buyer beware     1"
      ]
     },
     "execution_count": 33,
     "metadata": {},
     "output_type": "execute_result"
    }
   ],
   "source": [
    "raw_df.tail()"
   ]
  },
  {
   "cell_type": "markdown",
   "metadata": {},
   "source": [
    "### Deleting Dublicate data rows"
   ]
  },
  {
   "cell_type": "markdown",
   "metadata": {},
   "source": [
    "There are only 905 iphone unique rows, and 905 google pixel rows. "
   ]
  },
  {
   "cell_type": "code",
   "execution_count": 34,
   "metadata": {},
   "outputs": [],
   "source": [
    "raw_df.drop_duplicates(subset =\"post_title\", \n",
    "                     keep = 'first', inplace = True) "
   ]
  },
  {
   "cell_type": "code",
   "execution_count": 35,
   "metadata": {},
   "outputs": [
    {
     "data": {
      "text/plain": [
       "(1807, 2)"
      ]
     },
     "execution_count": 35,
     "metadata": {},
     "output_type": "execute_result"
    }
   ],
   "source": [
    "raw_df.shape"
   ]
  },
  {
   "cell_type": "markdown",
   "metadata": {},
   "source": [
    "#### Exporting the data for cleaning and modeling. "
   ]
  },
  {
   "cell_type": "code",
   "execution_count": 36,
   "metadata": {},
   "outputs": [],
   "source": [
    "raw_df.to_csv('raw_title_dataset')"
   ]
  }
 ],
 "metadata": {
  "kernelspec": {
   "display_name": "Python 3",
   "language": "python",
   "name": "python3"
  },
  "language_info": {
   "codemirror_mode": {
    "name": "ipython",
    "version": 3
   },
   "file_extension": ".py",
   "mimetype": "text/x-python",
   "name": "python",
   "nbconvert_exporter": "python",
   "pygments_lexer": "ipython3",
   "version": "3.7.3"
  }
 },
 "nbformat": 4,
 "nbformat_minor": 2
}
